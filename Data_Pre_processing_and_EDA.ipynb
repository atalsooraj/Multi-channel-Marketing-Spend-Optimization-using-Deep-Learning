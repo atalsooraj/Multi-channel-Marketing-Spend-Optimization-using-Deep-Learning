{
  "nbformat": 4,
  "nbformat_minor": 0,
  "metadata": {
    "colab": {
      "name": "Data Pre-processing and EDA.ipynb",
      "provenance": [],
      "mount_file_id": "1_osXvuiHgdnUftaf80GdaD7ZxhNEKAw0",
      "authorship_tag": "ABX9TyN0/J2az96j1urIzjGfSMF+",
      "include_colab_link": true
    },
    "kernelspec": {
      "name": "python3",
      "display_name": "Python 3"
    }
  },
  "cells": [
    {
      "cell_type": "markdown",
      "metadata": {
        "id": "view-in-github",
        "colab_type": "text"
      },
      "source": [
        "<a href=\"https://colab.research.google.com/github/atalsooraj/Multi-channel-Marketing-Spend-Optimization-using-Deep-Learning/blob/main/Data_Pre_processing_and_EDA.ipynb\" target=\"_parent\"><img src=\"https://colab.research.google.com/assets/colab-badge.svg\" alt=\"Open In Colab\"/></a>"
      ]
    },
    {
      "cell_type": "code",
      "metadata": {
        "id": "5IKt8dw75Crd"
      },
      "source": [
        "data_file = '/content/drive/MyDrive/606 Capstone/criteo_attribution_dataset.tsv.gz'"
      ],
      "execution_count": 3,
      "outputs": []
    },
    {
      "cell_type": "code",
      "metadata": {
        "id": "AKpSA8sZ6Kem"
      },
      "source": [
        "import pandas as pd\n",
        "# df_Criteo_Attribution = pd.read_csv(DATA_FILE, sep='\\t', compression='gzip')\n",
        "\n",
        "df0 = pd.read_csv(data_file, sep='\\t', compression='gzip')"
      ],
      "execution_count": 4,
      "outputs": []
    },
    {
      "cell_type": "code",
      "metadata": {
        "id": "22Yrj4xq6QiH",
        "colab": {
          "base_uri": "https://localhost:8080/",
          "height": 217
        },
        "outputId": "95008f26-2980-4626-bab0-e93de476be32"
      },
      "source": [
        "df0.head()"
      ],
      "execution_count": 5,
      "outputs": [
        {
          "output_type": "execute_result",
          "data": {
            "text/html": [
              "<div>\n",
              "<style scoped>\n",
              "    .dataframe tbody tr th:only-of-type {\n",
              "        vertical-align: middle;\n",
              "    }\n",
              "\n",
              "    .dataframe tbody tr th {\n",
              "        vertical-align: top;\n",
              "    }\n",
              "\n",
              "    .dataframe thead th {\n",
              "        text-align: right;\n",
              "    }\n",
              "</style>\n",
              "<table border=\"1\" class=\"dataframe\">\n",
              "  <thead>\n",
              "    <tr style=\"text-align: right;\">\n",
              "      <th></th>\n",
              "      <th>timestamp</th>\n",
              "      <th>uid</th>\n",
              "      <th>campaign</th>\n",
              "      <th>conversion</th>\n",
              "      <th>conversion_timestamp</th>\n",
              "      <th>conversion_id</th>\n",
              "      <th>attribution</th>\n",
              "      <th>click</th>\n",
              "      <th>click_pos</th>\n",
              "      <th>click_nb</th>\n",
              "      <th>cost</th>\n",
              "      <th>cpo</th>\n",
              "      <th>time_since_last_click</th>\n",
              "      <th>cat1</th>\n",
              "      <th>cat2</th>\n",
              "      <th>cat3</th>\n",
              "      <th>cat4</th>\n",
              "      <th>cat5</th>\n",
              "      <th>cat6</th>\n",
              "      <th>cat7</th>\n",
              "      <th>cat8</th>\n",
              "      <th>cat9</th>\n",
              "    </tr>\n",
              "  </thead>\n",
              "  <tbody>\n",
              "    <tr>\n",
              "      <th>0</th>\n",
              "      <td>0</td>\n",
              "      <td>20073966</td>\n",
              "      <td>22589171</td>\n",
              "      <td>0</td>\n",
              "      <td>-1</td>\n",
              "      <td>-1</td>\n",
              "      <td>0</td>\n",
              "      <td>0</td>\n",
              "      <td>-1</td>\n",
              "      <td>-1</td>\n",
              "      <td>0.000010</td>\n",
              "      <td>0.390794</td>\n",
              "      <td>-1</td>\n",
              "      <td>5824233</td>\n",
              "      <td>9312274</td>\n",
              "      <td>3490278</td>\n",
              "      <td>29196072</td>\n",
              "      <td>11409686</td>\n",
              "      <td>1973606</td>\n",
              "      <td>25162884</td>\n",
              "      <td>29196072</td>\n",
              "      <td>29196072</td>\n",
              "    </tr>\n",
              "    <tr>\n",
              "      <th>1</th>\n",
              "      <td>2</td>\n",
              "      <td>24607497</td>\n",
              "      <td>884761</td>\n",
              "      <td>0</td>\n",
              "      <td>-1</td>\n",
              "      <td>-1</td>\n",
              "      <td>0</td>\n",
              "      <td>0</td>\n",
              "      <td>-1</td>\n",
              "      <td>-1</td>\n",
              "      <td>0.000010</td>\n",
              "      <td>0.059600</td>\n",
              "      <td>423858</td>\n",
              "      <td>30763035</td>\n",
              "      <td>9312274</td>\n",
              "      <td>14584482</td>\n",
              "      <td>29196072</td>\n",
              "      <td>11409686</td>\n",
              "      <td>1973606</td>\n",
              "      <td>22644417</td>\n",
              "      <td>9312274</td>\n",
              "      <td>21091111</td>\n",
              "    </tr>\n",
              "    <tr>\n",
              "      <th>2</th>\n",
              "      <td>2</td>\n",
              "      <td>28474333</td>\n",
              "      <td>18975823</td>\n",
              "      <td>0</td>\n",
              "      <td>-1</td>\n",
              "      <td>-1</td>\n",
              "      <td>0</td>\n",
              "      <td>0</td>\n",
              "      <td>-1</td>\n",
              "      <td>-1</td>\n",
              "      <td>0.000183</td>\n",
              "      <td>0.149706</td>\n",
              "      <td>8879</td>\n",
              "      <td>138937</td>\n",
              "      <td>9312274</td>\n",
              "      <td>10769841</td>\n",
              "      <td>29196072</td>\n",
              "      <td>5824237</td>\n",
              "      <td>138937</td>\n",
              "      <td>1795451</td>\n",
              "      <td>29196072</td>\n",
              "      <td>15351056</td>\n",
              "    </tr>\n",
              "    <tr>\n",
              "      <th>3</th>\n",
              "      <td>3</td>\n",
              "      <td>7306395</td>\n",
              "      <td>29427842</td>\n",
              "      <td>1</td>\n",
              "      <td>1449193</td>\n",
              "      <td>3063962</td>\n",
              "      <td>0</td>\n",
              "      <td>1</td>\n",
              "      <td>0</td>\n",
              "      <td>7</td>\n",
              "      <td>0.000094</td>\n",
              "      <td>0.154785</td>\n",
              "      <td>-1</td>\n",
              "      <td>28928366</td>\n",
              "      <td>26597095</td>\n",
              "      <td>12435261</td>\n",
              "      <td>23549932</td>\n",
              "      <td>5824237</td>\n",
              "      <td>1973606</td>\n",
              "      <td>9180723</td>\n",
              "      <td>29841067</td>\n",
              "      <td>29196072</td>\n",
              "    </tr>\n",
              "    <tr>\n",
              "      <th>4</th>\n",
              "      <td>3</td>\n",
              "      <td>25357769</td>\n",
              "      <td>13365547</td>\n",
              "      <td>0</td>\n",
              "      <td>-1</td>\n",
              "      <td>-1</td>\n",
              "      <td>0</td>\n",
              "      <td>0</td>\n",
              "      <td>-1</td>\n",
              "      <td>-1</td>\n",
              "      <td>0.000032</td>\n",
              "      <td>0.037583</td>\n",
              "      <td>-1</td>\n",
              "      <td>138937</td>\n",
              "      <td>26597094</td>\n",
              "      <td>31616034</td>\n",
              "      <td>29196072</td>\n",
              "      <td>11409684</td>\n",
              "      <td>26597096</td>\n",
              "      <td>4480345</td>\n",
              "      <td>29196072</td>\n",
              "      <td>29196072</td>\n",
              "    </tr>\n",
              "  </tbody>\n",
              "</table>\n",
              "</div>"
            ],
            "text/plain": [
              "   timestamp       uid  campaign  ...      cat7      cat8      cat9\n",
              "0          0  20073966  22589171  ...  25162884  29196072  29196072\n",
              "1          2  24607497    884761  ...  22644417   9312274  21091111\n",
              "2          2  28474333  18975823  ...   1795451  29196072  15351056\n",
              "3          3   7306395  29427842  ...   9180723  29841067  29196072\n",
              "4          3  25357769  13365547  ...   4480345  29196072  29196072\n",
              "\n",
              "[5 rows x 22 columns]"
            ]
          },
          "metadata": {
            "tags": []
          },
          "execution_count": 5
        }
      ]
    },
    {
      "cell_type": "code",
      "metadata": {
        "id": "PQaZByOkfCy8"
      },
      "source": [
        "# df0[df0['uid']==7306395]"
      ],
      "execution_count": 6,
      "outputs": []
    },
    {
      "cell_type": "code",
      "metadata": {
        "colab": {
          "base_uri": "https://localhost:8080/"
        },
        "id": "0ahpwGMF8noe",
        "outputId": "0e15e667-dadb-4c83-e93c-faa689e8766e"
      },
      "source": [
        "len(df0)"
      ],
      "execution_count": 7,
      "outputs": [
        {
          "output_type": "execute_result",
          "data": {
            "text/plain": [
              "16468027"
            ]
          },
          "metadata": {
            "tags": []
          },
          "execution_count": 7
        }
      ]
    },
    {
      "cell_type": "code",
      "metadata": {
        "colab": {
          "base_uri": "https://localhost:8080/"
        },
        "id": "SBV-v0mGgR5p",
        "outputId": "04220f1d-a366-42b0-93ae-88384c8e9958"
      },
      "source": [
        "df0['campaign'].nunique()"
      ],
      "execution_count": 8,
      "outputs": [
        {
          "output_type": "execute_result",
          "data": {
            "text/plain": [
              "675"
            ]
          },
          "metadata": {
            "tags": []
          },
          "execution_count": 8
        }
      ]
    },
    {
      "cell_type": "code",
      "metadata": {
        "colab": {
          "base_uri": "https://localhost:8080/"
        },
        "id": "WDlZ4zxZTkR7",
        "outputId": "563b8a77-2324-4f41-b71e-19216a0c3caf"
      },
      "source": [
        "df0['conversion'].value_counts()"
      ],
      "execution_count": 9,
      "outputs": [
        {
          "output_type": "execute_result",
          "data": {
            "text/plain": [
              "0    15661831\n",
              "1      806196\n",
              "Name: conversion, dtype: int64"
            ]
          },
          "metadata": {
            "tags": []
          },
          "execution_count": 9
        }
      ]
    },
    {
      "cell_type": "code",
      "metadata": {
        "id": "YbIoaWwF5TmY"
      },
      "source": [
        "df = df0.copy()"
      ],
      "execution_count": 10,
      "outputs": []
    },
    {
      "cell_type": "code",
      "metadata": {
        "id": "qJ7FC89Mgn2Z"
      },
      "source": [
        "del df0"
      ],
      "execution_count": 11,
      "outputs": []
    },
    {
      "cell_type": "markdown",
      "metadata": {
        "id": "SY1J1THseoI4"
      },
      "source": [
        "Step 1: Creating a new column 'jid' by concatenating uid and conversion id. We do this becasue we want to analyze entire customer journeys i.e sequence of events."
      ]
    },
    {
      "cell_type": "code",
      "metadata": {
        "id": "3yoNCE0J6Klv"
      },
      "source": [
        "#Concatenating uid and conversion_id since we want to analyze entire customer journeys(sequence of events)\n",
        "\n",
        "df['jid']= df['uid'].map(str)+ '_'+df['conversion_id'].map(str)"
      ],
      "execution_count": 12,
      "outputs": []
    },
    {
      "cell_type": "markdown",
      "metadata": {
        "id": "DVDhoCXSgAEo"
      },
      "source": [
        "Step 2: Scaling the timestamp column."
      ]
    },
    {
      "cell_type": "code",
      "metadata": {
        "id": "KK9ClONn1Zbe"
      },
      "source": [
        "from sklearn.preprocessing import MinMaxScaler"
      ],
      "execution_count": 13,
      "outputs": []
    },
    {
      "cell_type": "code",
      "metadata": {
        "id": "dGqbpf33wzxS"
      },
      "source": [
        "# Scaling timestamp and time_since_last_click columns \n",
        "minmaxscaler= MinMaxScaler()\n",
        "for column in ('timestamp','time_since_last_click'):\n",
        "  x= df[column].values.reshape(-1,1)\n",
        "  df[column +'_norm']= minmaxscaler.fit_transform(x)\n"
      ],
      "execution_count": 14,
      "outputs": []
    },
    {
      "cell_type": "code",
      "metadata": {
        "colab": {
          "base_uri": "https://localhost:8080/"
        },
        "id": "K0pbLOxIYKFE",
        "outputId": "6e4d283b-82b8-44bd-cc8e-9c67d9d5eafd"
      },
      "source": [
        "df['campaign'].nunique()"
      ],
      "execution_count": 15,
      "outputs": [
        {
          "output_type": "execute_result",
          "data": {
            "text/plain": [
              "675"
            ]
          },
          "metadata": {
            "tags": []
          },
          "execution_count": 15
        }
      ]
    },
    {
      "cell_type": "markdown",
      "metadata": {
        "id": "LZfsrzCyek48"
      },
      "source": [
        "Step 3: Randomly sampling 200 campaigns."
      ]
    },
    {
      "cell_type": "code",
      "metadata": {
        "colab": {
          "base_uri": "https://localhost:8080/"
        },
        "id": "FC1zJAbO8Wrj",
        "outputId": "0c69e527-12d5-4738-e83b-8ee975ba7646"
      },
      "source": [
        "#Randomly sampling 200 campaigns\n",
        "import numpy as np\n",
        "camapaigns_shortlisted= np.random.choice(df['campaign'].unique(),200,replace=False)\n",
        "camapaigns_shortlisted[:5]"
      ],
      "execution_count": 16,
      "outputs": [
        {
          "output_type": "execute_result",
          "data": {
            "text/plain": [
              "array([14458669, 14289571, 28031695, 23310435,  2077112])"
            ]
          },
          "metadata": {
            "tags": []
          },
          "execution_count": 16
        }
      ]
    },
    {
      "cell_type": "markdown",
      "metadata": {
        "id": "nPuA7bgCiOqE"
      },
      "source": [
        "Finding the set difference between original and shortlisted campaign id's. the result will give unwanted campaign id's."
      ]
    },
    {
      "cell_type": "code",
      "metadata": {
        "id": "xrajeGc85Vgj"
      },
      "source": [
        "not_reqd= np.setdiff1d(df['campaign'].values, camapaigns_shortlisted)\n"
      ],
      "execution_count": 17,
      "outputs": []
    },
    {
      "cell_type": "markdown",
      "metadata": {
        "id": "hcgBlir3ifwN"
      },
      "source": [
        "Considering all campaign id's except those present in not required array."
      ]
    },
    {
      "cell_type": "code",
      "metadata": {
        "id": "d_CsttQP7hPE"
      },
      "source": [
        "df = df[~df['campaign'].isin(not_reqd)]"
      ],
      "execution_count": 18,
      "outputs": []
    },
    {
      "cell_type": "code",
      "metadata": {
        "colab": {
          "base_uri": "https://localhost:8080/"
        },
        "id": "DgnudpJI8Zu5",
        "outputId": "56bf3575-4969-4c38-a28c-5f45ebdd1cd2"
      },
      "source": [
        "len(df)"
      ],
      "execution_count": 19,
      "outputs": [
        {
          "output_type": "execute_result",
          "data": {
            "text/plain": [
              "4910799"
            ]
          },
          "metadata": {
            "tags": []
          },
          "execution_count": 19
        }
      ]
    },
    {
      "cell_type": "code",
      "metadata": {
        "colab": {
          "base_uri": "https://localhost:8080/"
        },
        "id": "k6Hz9GmPByVK",
        "outputId": "1de9c0b8-5203-4ae5-8fa3-90301eae41a3"
      },
      "source": [
        "df['campaign'].nunique()"
      ],
      "execution_count": 20,
      "outputs": [
        {
          "output_type": "execute_result",
          "data": {
            "text/plain": [
              "200"
            ]
          },
          "metadata": {
            "tags": []
          },
          "execution_count": 20
        }
      ]
    },
    {
      "cell_type": "code",
      "metadata": {
        "id": "RXBGdTimgBGX"
      },
      "source": [
        "# df_sampled= df[df['campaign'][j for j in range(len(df['campaign']))]== [i for i in camapaigns_shortlisted]]\n",
        "\n",
        "# df_sampled= df.loc[df['campaign'].apply(lambda x: x in camapaigns_shortlisted)]\n",
        "\n",
        "#Source-https://stackoverflow.com/questions/21738882/fast-pandas-filtering\n",
        "\n",
        "# df_sampled= df.loc[np.in1d(df['campaign'], camapaigns_shortlisted)]"
      ],
      "execution_count": 21,
      "outputs": []
    },
    {
      "cell_type": "markdown",
      "metadata": {
        "id": "iWnndeY4iuOh"
      },
      "source": [
        "Step 4: Counting the instances of each 'jid' and only considering theose journey id's having more than 1 occurence."
      ]
    },
    {
      "cell_type": "code",
      "metadata": {
        "id": "F8DdlAvsZIrq"
      },
      "source": [
        "grouped= df.groupby(['jid'])['uid'].count().reset_index(name='count')"
      ],
      "execution_count": 22,
      "outputs": []
    },
    {
      "cell_type": "code",
      "metadata": {
        "id": "6PCa2NHI4EYR"
      },
      "source": [
        "#grouped.head()"
      ],
      "execution_count": 23,
      "outputs": []
    },
    {
      "cell_type": "code",
      "metadata": {
        "id": "8AYmT6aHVkWS"
      },
      "source": [
        "df2= df[df['jid'].isin(grouped[grouped['count'] >= 2]['jid'].values )]  #Only considering journey id's with more than 1 event. Here, we are indirectly removing jid's with only 1 occurence."
      ],
      "execution_count": 24,
      "outputs": []
    },
    {
      "cell_type": "code",
      "metadata": {
        "id": "H2MKj-arWFsR"
      },
      "source": [
        "#df2.head()"
      ],
      "execution_count": 25,
      "outputs": []
    },
    {
      "cell_type": "code",
      "metadata": {
        "id": "rrFnKY2_hOlL"
      },
      "source": [
        "del df\n",
        "del not_reqd\n"
      ],
      "execution_count": 26,
      "outputs": []
    },
    {
      "cell_type": "code",
      "metadata": {
        "colab": {
          "base_uri": "https://localhost:8080/"
        },
        "id": "AL4x98CAWNrj",
        "outputId": "9e86bea4-96c2-461d-c91b-0f4823b04dca"
      },
      "source": [
        "len(df2)"
      ],
      "execution_count": 27,
      "outputs": [
        {
          "output_type": "execute_result",
          "data": {
            "text/plain": [
              "3651171"
            ]
          },
          "metadata": {
            "tags": []
          },
          "execution_count": 27
        }
      ]
    },
    {
      "cell_type": "code",
      "metadata": {
        "id": "yCvZGmB5cMOa"
      },
      "source": [
        "df_0= df2[df2['conversion']==0]\n",
        "df_1= df2[df2['conversion']==1]"
      ],
      "execution_count": 28,
      "outputs": []
    },
    {
      "cell_type": "code",
      "metadata": {
        "colab": {
          "base_uri": "https://localhost:8080/"
        },
        "id": "V299M5xvcdcA",
        "outputId": "41480515-9ccc-4bdc-b1f8-f7c46199695b"
      },
      "source": [
        "len(df_0), len(df_1)"
      ],
      "execution_count": 29,
      "outputs": [
        {
          "output_type": "execute_result",
          "data": {
            "text/plain": [
              "(3481839, 169332)"
            ]
          },
          "metadata": {
            "tags": []
          },
          "execution_count": 29
        }
      ]
    },
    {
      "cell_type": "code",
      "metadata": {
        "id": "Kc97G7_GokIo"
      },
      "source": [
        "del df2"
      ],
      "execution_count": 30,
      "outputs": []
    },
    {
      "cell_type": "markdown",
      "metadata": {
        "id": "wi59z_-njFXj"
      },
      "source": [
        "Step 5: Balancing the dataset: The number of convertd and non-converted events should be equal so that our model can have a balanced learning. We take all converted journeys and iteratively add non-converted events until the dataset is balanced. We do it this way because we want to balance the number of events but also want the whole journey."
      ]
    },
    {
      "cell_type": "code",
      "metadata": {
        "id": "k3bBQiXYW-h_"
      },
      "source": [
        "df_0_jids= np.array_split(df_0['jid'].unique(),100* df_0.shape[0]/df_1.shape[0])"
      ],
      "execution_count": 31,
      "outputs": []
    },
    {
      "cell_type": "code",
      "metadata": {
        "id": "oay5o7OkpJUk"
      },
      "source": [
        "df_0_sampled = pd.DataFrame(data=None, columns=df_0.columns)"
      ],
      "execution_count": 32,
      "outputs": []
    },
    {
      "cell_type": "code",
      "metadata": {
        "id": "Ew5MMc5Puk6C"
      },
      "source": [
        "for array in df_0_jids:\n",
        "  df_0_sampled = pd.concat([df_0_sampled, df_0[df_0.jid.isin(array)]])\n",
        "\n",
        "  if df_0_sampled.shape[0]> df_1.shape[0]:\n",
        "    break\n"
      ],
      "execution_count": 33,
      "outputs": []
    },
    {
      "cell_type": "code",
      "metadata": {
        "id": "BhjpzlmOvOgL"
      },
      "source": [
        "df_final= pd.concat([df_0_sampled, df_1]).sample(frac=1).reset_index(drop=True)"
      ],
      "execution_count": 34,
      "outputs": []
    },
    {
      "cell_type": "code",
      "metadata": {
        "id": "bWvKJ0FhiEfu"
      },
      "source": [
        "del df_0,df_1,df_0_jids,df_0_sampled"
      ],
      "execution_count": 35,
      "outputs": []
    },
    {
      "cell_type": "code",
      "metadata": {
        "colab": {
          "base_uri": "https://localhost:8080/"
        },
        "id": "KQyAO2NovrRn",
        "outputId": "34524075-baef-48db-da9a-9fa8ceb8a111"
      },
      "source": [
        "df_final['conversion'].value_counts()"
      ],
      "execution_count": 36,
      "outputs": [
        {
          "output_type": "execute_result",
          "data": {
            "text/plain": [
              "0    170217\n",
              "1    169332\n",
              "Name: conversion, dtype: int64"
            ]
          },
          "metadata": {
            "tags": []
          },
          "execution_count": 36
        }
      ]
    },
    {
      "cell_type": "code",
      "metadata": {
        "colab": {
          "base_uri": "https://localhost:8080/",
          "height": 217
        },
        "id": "JROhsQBWwuVm",
        "outputId": "3b25ee12-c440-42d2-c0d3-db51bfd24702"
      },
      "source": [
        "df_final.head()"
      ],
      "execution_count": 37,
      "outputs": [
        {
          "output_type": "execute_result",
          "data": {
            "text/html": [
              "<div>\n",
              "<style scoped>\n",
              "    .dataframe tbody tr th:only-of-type {\n",
              "        vertical-align: middle;\n",
              "    }\n",
              "\n",
              "    .dataframe tbody tr th {\n",
              "        vertical-align: top;\n",
              "    }\n",
              "\n",
              "    .dataframe thead th {\n",
              "        text-align: right;\n",
              "    }\n",
              "</style>\n",
              "<table border=\"1\" class=\"dataframe\">\n",
              "  <thead>\n",
              "    <tr style=\"text-align: right;\">\n",
              "      <th></th>\n",
              "      <th>timestamp</th>\n",
              "      <th>uid</th>\n",
              "      <th>campaign</th>\n",
              "      <th>conversion</th>\n",
              "      <th>conversion_timestamp</th>\n",
              "      <th>conversion_id</th>\n",
              "      <th>attribution</th>\n",
              "      <th>click</th>\n",
              "      <th>click_pos</th>\n",
              "      <th>click_nb</th>\n",
              "      <th>cost</th>\n",
              "      <th>cpo</th>\n",
              "      <th>time_since_last_click</th>\n",
              "      <th>cat1</th>\n",
              "      <th>cat2</th>\n",
              "      <th>cat3</th>\n",
              "      <th>cat4</th>\n",
              "      <th>cat5</th>\n",
              "      <th>cat6</th>\n",
              "      <th>cat7</th>\n",
              "      <th>cat8</th>\n",
              "      <th>cat9</th>\n",
              "      <th>jid</th>\n",
              "      <th>timestamp_norm</th>\n",
              "      <th>time_since_last_click_norm</th>\n",
              "    </tr>\n",
              "  </thead>\n",
              "  <tbody>\n",
              "    <tr>\n",
              "      <th>0</th>\n",
              "      <td>124454</td>\n",
              "      <td>10730920</td>\n",
              "      <td>28795043</td>\n",
              "      <td>0</td>\n",
              "      <td>-1</td>\n",
              "      <td>-1</td>\n",
              "      <td>0</td>\n",
              "      <td>1</td>\n",
              "      <td>-1</td>\n",
              "      <td>-1</td>\n",
              "      <td>0.000014</td>\n",
              "      <td>0.279249</td>\n",
              "      <td>-1</td>\n",
              "      <td>30763035</td>\n",
              "      <td>9312274</td>\n",
              "      <td>23137544</td>\n",
              "      <td>29196072</td>\n",
              "      <td>32440044</td>\n",
              "      <td>1973606</td>\n",
              "      <td>1980833</td>\n",
              "      <td>29841067</td>\n",
              "      <td>29196072</td>\n",
              "      <td>10730920_-1</td>\n",
              "      <td>0.046591</td>\n",
              "      <td>0.000000</td>\n",
              "    </tr>\n",
              "    <tr>\n",
              "      <th>1</th>\n",
              "      <td>1772320</td>\n",
              "      <td>18294120</td>\n",
              "      <td>24942663</td>\n",
              "      <td>0</td>\n",
              "      <td>-1</td>\n",
              "      <td>-1</td>\n",
              "      <td>0</td>\n",
              "      <td>1</td>\n",
              "      <td>-1</td>\n",
              "      <td>-1</td>\n",
              "      <td>0.004622</td>\n",
              "      <td>0.301610</td>\n",
              "      <td>17577</td>\n",
              "      <td>27093701</td>\n",
              "      <td>9312274</td>\n",
              "      <td>23410096</td>\n",
              "      <td>29196072</td>\n",
              "      <td>20611409</td>\n",
              "      <td>30763035</td>\n",
              "      <td>13654477</td>\n",
              "      <td>29196072</td>\n",
              "      <td>15351053</td>\n",
              "      <td>18294120_-1</td>\n",
              "      <td>0.663492</td>\n",
              "      <td>0.006782</td>\n",
              "    </tr>\n",
              "    <tr>\n",
              "      <th>2</th>\n",
              "      <td>2062203</td>\n",
              "      <td>862538</td>\n",
              "      <td>28351001</td>\n",
              "      <td>1</td>\n",
              "      <td>2732225</td>\n",
              "      <td>7856566</td>\n",
              "      <td>0</td>\n",
              "      <td>1</td>\n",
              "      <td>13</td>\n",
              "      <td>16</td>\n",
              "      <td>0.000888</td>\n",
              "      <td>0.051292</td>\n",
              "      <td>396</td>\n",
              "      <td>25259032</td>\n",
              "      <td>9312274</td>\n",
              "      <td>23322867</td>\n",
              "      <td>29196072</td>\n",
              "      <td>5824236</td>\n",
              "      <td>29196072</td>\n",
              "      <td>16628728</td>\n",
              "      <td>29196072</td>\n",
              "      <td>16022563</td>\n",
              "      <td>862538_7856566</td>\n",
              "      <td>0.772014</td>\n",
              "      <td>0.000153</td>\n",
              "    </tr>\n",
              "    <tr>\n",
              "      <th>3</th>\n",
              "      <td>737323</td>\n",
              "      <td>16049029</td>\n",
              "      <td>7121544</td>\n",
              "      <td>0</td>\n",
              "      <td>-1</td>\n",
              "      <td>-1</td>\n",
              "      <td>0</td>\n",
              "      <td>0</td>\n",
              "      <td>-1</td>\n",
              "      <td>-1</td>\n",
              "      <td>0.000121</td>\n",
              "      <td>0.228472</td>\n",
              "      <td>-1</td>\n",
              "      <td>27093701</td>\n",
              "      <td>9312274</td>\n",
              "      <td>3495539</td>\n",
              "      <td>29196072</td>\n",
              "      <td>32440044</td>\n",
              "      <td>1973606</td>\n",
              "      <td>21147991</td>\n",
              "      <td>29841067</td>\n",
              "      <td>29196072</td>\n",
              "      <td>16049029_-1</td>\n",
              "      <td>0.276027</td>\n",
              "      <td>0.000000</td>\n",
              "    </tr>\n",
              "    <tr>\n",
              "      <th>4</th>\n",
              "      <td>1772819</td>\n",
              "      <td>15633986</td>\n",
              "      <td>15398570</td>\n",
              "      <td>1</td>\n",
              "      <td>1773056</td>\n",
              "      <td>30858709</td>\n",
              "      <td>1</td>\n",
              "      <td>1</td>\n",
              "      <td>12</td>\n",
              "      <td>13</td>\n",
              "      <td>0.000292</td>\n",
              "      <td>0.158713</td>\n",
              "      <td>88504</td>\n",
              "      <td>25259032</td>\n",
              "      <td>28928366</td>\n",
              "      <td>10787874</td>\n",
              "      <td>29196072</td>\n",
              "      <td>32440044</td>\n",
              "      <td>28928366</td>\n",
              "      <td>12289067</td>\n",
              "      <td>29196072</td>\n",
              "      <td>29520629</td>\n",
              "      <td>15633986_30858709</td>\n",
              "      <td>0.663679</td>\n",
              "      <td>0.034145</td>\n",
              "    </tr>\n",
              "  </tbody>\n",
              "</table>\n",
              "</div>"
            ],
            "text/plain": [
              "  timestamp       uid  ... timestamp_norm time_since_last_click_norm\n",
              "0    124454  10730920  ...       0.046591                   0.000000\n",
              "1   1772320  18294120  ...       0.663492                   0.006782\n",
              "2   2062203    862538  ...       0.772014                   0.000153\n",
              "3    737323  16049029  ...       0.276027                   0.000000\n",
              "4   1772819  15633986  ...       0.663679                   0.034145\n",
              "\n",
              "[5 rows x 25 columns]"
            ]
          },
          "metadata": {
            "tags": []
          },
          "execution_count": 37
        }
      ]
    },
    {
      "cell_type": "code",
      "metadata": {
        "id": "TxdZ_EVM16pW",
        "colab": {
          "base_uri": "https://localhost:8080/"
        },
        "outputId": "7c1011fc-e170-4c0a-885e-c0d31797f9f8"
      },
      "source": [
        "len(df_final)"
      ],
      "execution_count": 38,
      "outputs": [
        {
          "output_type": "execute_result",
          "data": {
            "text/plain": [
              "339549"
            ]
          },
          "metadata": {
            "tags": []
          },
          "execution_count": 38
        }
      ]
    },
    {
      "cell_type": "markdown",
      "metadata": {
        "id": "Bx_6DVxnkhhq"
      },
      "source": [
        "Finding unique values in each categorical column. Here, cat 7 has way too many features so we are going to ignore this columns and use all the others."
      ]
    },
    {
      "cell_type": "code",
      "metadata": {
        "colab": {
          "base_uri": "https://localhost:8080/"
        },
        "id": "lhX21qThHK3Q",
        "outputId": "29c7bd2f-3747-4ffe-9c71-3806032ef41e"
      },
      "source": [
        "df_final[df_final.columns[13:22]].nunique()"
      ],
      "execution_count": 39,
      "outputs": [
        {
          "output_type": "execute_result",
          "data": {
            "text/plain": [
              "cat1       9\n",
              "cat2      46\n",
              "cat3     511\n",
              "cat4      17\n",
              "cat5      39\n",
              "cat6      30\n",
              "cat7    5793\n",
              "cat8      11\n",
              "cat9      30\n",
              "dtype: int64"
            ]
          },
          "metadata": {
            "tags": []
          },
          "execution_count": 39
        }
      ]
    },
    {
      "cell_type": "markdown",
      "metadata": {
        "id": "X7XMFGhanre1"
      },
      "source": [
        "Creating a dictionary with all unique categorical variables as keys and assigning them values based on length of the dictionary when they are added."
      ]
    },
    {
      "cell_type": "code",
      "metadata": {
        "id": "kNH-ddEi2mbo"
      },
      "source": [
        "mapper= {}\n",
        "col_names= ['cat1','cat2','cat3','cat4','cat5','cat6','cat8','cat9']\n",
        "for i, col_name in enumerate(col_names):\n",
        "  for val in df_final[col_name].unique():\n",
        "    mapper[val*10 +i]=len(mapper)\n"
      ],
      "execution_count": 40,
      "outputs": []
    },
    {
      "cell_type": "markdown",
      "metadata": {
        "id": "0ZkT6oSsn5hq"
      },
      "source": [
        "Creating a new column containing the list of all the categories present in that corresponding rows."
      ]
    },
    {
      "cell_type": "code",
      "metadata": {
        "id": "_WLaqkHL8zs5"
      },
      "source": [
        "df_ext = df_final.copy()\n",
        "df_ext['cats']= df_ext[col_names].values.tolist()"
      ],
      "execution_count": 41,
      "outputs": []
    },
    {
      "cell_type": "code",
      "metadata": {
        "colab": {
          "base_uri": "https://localhost:8080/",
          "height": 551
        },
        "id": "3HnzlU809_I4",
        "outputId": "c927c707-52e1-4fba-8681-88a4f499f299"
      },
      "source": [
        "df_ext.head()"
      ],
      "execution_count": 42,
      "outputs": [
        {
          "output_type": "execute_result",
          "data": {
            "text/html": [
              "<div>\n",
              "<style scoped>\n",
              "    .dataframe tbody tr th:only-of-type {\n",
              "        vertical-align: middle;\n",
              "    }\n",
              "\n",
              "    .dataframe tbody tr th {\n",
              "        vertical-align: top;\n",
              "    }\n",
              "\n",
              "    .dataframe thead th {\n",
              "        text-align: right;\n",
              "    }\n",
              "</style>\n",
              "<table border=\"1\" class=\"dataframe\">\n",
              "  <thead>\n",
              "    <tr style=\"text-align: right;\">\n",
              "      <th></th>\n",
              "      <th>timestamp</th>\n",
              "      <th>uid</th>\n",
              "      <th>campaign</th>\n",
              "      <th>conversion</th>\n",
              "      <th>conversion_timestamp</th>\n",
              "      <th>conversion_id</th>\n",
              "      <th>attribution</th>\n",
              "      <th>click</th>\n",
              "      <th>click_pos</th>\n",
              "      <th>click_nb</th>\n",
              "      <th>cost</th>\n",
              "      <th>cpo</th>\n",
              "      <th>time_since_last_click</th>\n",
              "      <th>cat1</th>\n",
              "      <th>cat2</th>\n",
              "      <th>cat3</th>\n",
              "      <th>cat4</th>\n",
              "      <th>cat5</th>\n",
              "      <th>cat6</th>\n",
              "      <th>cat7</th>\n",
              "      <th>cat8</th>\n",
              "      <th>cat9</th>\n",
              "      <th>jid</th>\n",
              "      <th>timestamp_norm</th>\n",
              "      <th>time_since_last_click_norm</th>\n",
              "      <th>cats</th>\n",
              "    </tr>\n",
              "  </thead>\n",
              "  <tbody>\n",
              "    <tr>\n",
              "      <th>0</th>\n",
              "      <td>124454</td>\n",
              "      <td>10730920</td>\n",
              "      <td>28795043</td>\n",
              "      <td>0</td>\n",
              "      <td>-1</td>\n",
              "      <td>-1</td>\n",
              "      <td>0</td>\n",
              "      <td>1</td>\n",
              "      <td>-1</td>\n",
              "      <td>-1</td>\n",
              "      <td>0.000014</td>\n",
              "      <td>0.279249</td>\n",
              "      <td>-1</td>\n",
              "      <td>30763035</td>\n",
              "      <td>9312274</td>\n",
              "      <td>23137544</td>\n",
              "      <td>29196072</td>\n",
              "      <td>32440044</td>\n",
              "      <td>1973606</td>\n",
              "      <td>1980833</td>\n",
              "      <td>29841067</td>\n",
              "      <td>29196072</td>\n",
              "      <td>10730920_-1</td>\n",
              "      <td>0.046591</td>\n",
              "      <td>0.000000</td>\n",
              "      <td>[30763035, 9312274, 23137544, 29196072, 324400...</td>\n",
              "    </tr>\n",
              "    <tr>\n",
              "      <th>1</th>\n",
              "      <td>1772320</td>\n",
              "      <td>18294120</td>\n",
              "      <td>24942663</td>\n",
              "      <td>0</td>\n",
              "      <td>-1</td>\n",
              "      <td>-1</td>\n",
              "      <td>0</td>\n",
              "      <td>1</td>\n",
              "      <td>-1</td>\n",
              "      <td>-1</td>\n",
              "      <td>0.004622</td>\n",
              "      <td>0.301610</td>\n",
              "      <td>17577</td>\n",
              "      <td>27093701</td>\n",
              "      <td>9312274</td>\n",
              "      <td>23410096</td>\n",
              "      <td>29196072</td>\n",
              "      <td>20611409</td>\n",
              "      <td>30763035</td>\n",
              "      <td>13654477</td>\n",
              "      <td>29196072</td>\n",
              "      <td>15351053</td>\n",
              "      <td>18294120_-1</td>\n",
              "      <td>0.663492</td>\n",
              "      <td>0.006782</td>\n",
              "      <td>[27093701, 9312274, 23410096, 29196072, 206114...</td>\n",
              "    </tr>\n",
              "    <tr>\n",
              "      <th>2</th>\n",
              "      <td>2062203</td>\n",
              "      <td>862538</td>\n",
              "      <td>28351001</td>\n",
              "      <td>1</td>\n",
              "      <td>2732225</td>\n",
              "      <td>7856566</td>\n",
              "      <td>0</td>\n",
              "      <td>1</td>\n",
              "      <td>13</td>\n",
              "      <td>16</td>\n",
              "      <td>0.000888</td>\n",
              "      <td>0.051292</td>\n",
              "      <td>396</td>\n",
              "      <td>25259032</td>\n",
              "      <td>9312274</td>\n",
              "      <td>23322867</td>\n",
              "      <td>29196072</td>\n",
              "      <td>5824236</td>\n",
              "      <td>29196072</td>\n",
              "      <td>16628728</td>\n",
              "      <td>29196072</td>\n",
              "      <td>16022563</td>\n",
              "      <td>862538_7856566</td>\n",
              "      <td>0.772014</td>\n",
              "      <td>0.000153</td>\n",
              "      <td>[25259032, 9312274, 23322867, 29196072, 582423...</td>\n",
              "    </tr>\n",
              "    <tr>\n",
              "      <th>3</th>\n",
              "      <td>737323</td>\n",
              "      <td>16049029</td>\n",
              "      <td>7121544</td>\n",
              "      <td>0</td>\n",
              "      <td>-1</td>\n",
              "      <td>-1</td>\n",
              "      <td>0</td>\n",
              "      <td>0</td>\n",
              "      <td>-1</td>\n",
              "      <td>-1</td>\n",
              "      <td>0.000121</td>\n",
              "      <td>0.228472</td>\n",
              "      <td>-1</td>\n",
              "      <td>27093701</td>\n",
              "      <td>9312274</td>\n",
              "      <td>3495539</td>\n",
              "      <td>29196072</td>\n",
              "      <td>32440044</td>\n",
              "      <td>1973606</td>\n",
              "      <td>21147991</td>\n",
              "      <td>29841067</td>\n",
              "      <td>29196072</td>\n",
              "      <td>16049029_-1</td>\n",
              "      <td>0.276027</td>\n",
              "      <td>0.000000</td>\n",
              "      <td>[27093701, 9312274, 3495539, 29196072, 3244004...</td>\n",
              "    </tr>\n",
              "    <tr>\n",
              "      <th>4</th>\n",
              "      <td>1772819</td>\n",
              "      <td>15633986</td>\n",
              "      <td>15398570</td>\n",
              "      <td>1</td>\n",
              "      <td>1773056</td>\n",
              "      <td>30858709</td>\n",
              "      <td>1</td>\n",
              "      <td>1</td>\n",
              "      <td>12</td>\n",
              "      <td>13</td>\n",
              "      <td>0.000292</td>\n",
              "      <td>0.158713</td>\n",
              "      <td>88504</td>\n",
              "      <td>25259032</td>\n",
              "      <td>28928366</td>\n",
              "      <td>10787874</td>\n",
              "      <td>29196072</td>\n",
              "      <td>32440044</td>\n",
              "      <td>28928366</td>\n",
              "      <td>12289067</td>\n",
              "      <td>29196072</td>\n",
              "      <td>29520629</td>\n",
              "      <td>15633986_30858709</td>\n",
              "      <td>0.663679</td>\n",
              "      <td>0.034145</td>\n",
              "      <td>[25259032, 28928366, 10787874, 29196072, 32440...</td>\n",
              "    </tr>\n",
              "  </tbody>\n",
              "</table>\n",
              "</div>"
            ],
            "text/plain": [
              "  timestamp  ...                                               cats\n",
              "0    124454  ...  [30763035, 9312274, 23137544, 29196072, 324400...\n",
              "1   1772320  ...  [27093701, 9312274, 23410096, 29196072, 206114...\n",
              "2   2062203  ...  [25259032, 9312274, 23322867, 29196072, 582423...\n",
              "3    737323  ...  [27093701, 9312274, 3495539, 29196072, 3244004...\n",
              "4   1772819  ...  [25259032, 28928366, 10787874, 29196072, 32440...\n",
              "\n",
              "[5 rows x 26 columns]"
            ]
          },
          "metadata": {
            "tags": []
          },
          "execution_count": 42
        }
      ]
    },
    {
      "cell_type": "markdown",
      "metadata": {
        "id": "Myheu-u1oDwE"
      },
      "source": [
        "Creating a function to do one hot encoding for each row value in campaign's column and update the encoded value in an array."
      ]
    },
    {
      "cell_type": "code",
      "metadata": {
        "id": "s5JSgKFb-9k1"
      },
      "source": [
        "def one_hot(values):\n",
        "  v= np.zeros(len(mapper))\n",
        "  for i, val in enumerate(values):\n",
        "    mapped_val_id= mapper[val*10+i]\n",
        "    v[mapped_val_id]= 1\n",
        "  return v"
      ],
      "execution_count": 43,
      "outputs": []
    },
    {
      "cell_type": "code",
      "metadata": {
        "id": "lVOxaiPz_knc"
      },
      "source": [
        "import numpy as np"
      ],
      "execution_count": 44,
      "outputs": []
    },
    {
      "cell_type": "code",
      "metadata": {
        "id": "bZ0V-h8a-CJ3"
      },
      "source": [
        "df_ext['cats']= df_ext['cats'].map(one_hot)"
      ],
      "execution_count": 45,
      "outputs": []
    },
    {
      "cell_type": "code",
      "metadata": {
        "id": "KofgP6HMC1GK"
      },
      "source": [
        "#df_ext['cats'][0]"
      ],
      "execution_count": 46,
      "outputs": []
    },
    {
      "cell_type": "markdown",
      "metadata": {
        "id": "kAZbVT52sk6c"
      },
      "source": [
        "Getting all unique values in the campaign column and creating a dictionary with keys as campaign id and values as the length of the dictionary."
      ]
    },
    {
      "cell_type": "code",
      "metadata": {
        "id": "1VTQdlcmJYVk"
      },
      "source": [
        "mapper= {}\n",
        "col_names= ['campaign']\n",
        "for i, col_name in enumerate(col_names):\n",
        "  for val in df_ext[col_name].unique():\n",
        "    mapper[val*10 +i]=len(mapper)\n",
        "\n",
        "\n",
        "df_ext['campaigns']= df_ext[col_names].values.tolist()\n",
        "\n"
      ],
      "execution_count": 47,
      "outputs": []
    },
    {
      "cell_type": "code",
      "metadata": {
        "colab": {
          "base_uri": "https://localhost:8080/",
          "height": 967
        },
        "id": "_ASS0VfzL-iO",
        "outputId": "b2144276-493f-43df-f586-0a42b752ee28"
      },
      "source": [
        "df_ext.head()"
      ],
      "execution_count": 48,
      "outputs": [
        {
          "output_type": "execute_result",
          "data": {
            "text/html": [
              "<div>\n",
              "<style scoped>\n",
              "    .dataframe tbody tr th:only-of-type {\n",
              "        vertical-align: middle;\n",
              "    }\n",
              "\n",
              "    .dataframe tbody tr th {\n",
              "        vertical-align: top;\n",
              "    }\n",
              "\n",
              "    .dataframe thead th {\n",
              "        text-align: right;\n",
              "    }\n",
              "</style>\n",
              "<table border=\"1\" class=\"dataframe\">\n",
              "  <thead>\n",
              "    <tr style=\"text-align: right;\">\n",
              "      <th></th>\n",
              "      <th>timestamp</th>\n",
              "      <th>uid</th>\n",
              "      <th>campaign</th>\n",
              "      <th>conversion</th>\n",
              "      <th>conversion_timestamp</th>\n",
              "      <th>conversion_id</th>\n",
              "      <th>attribution</th>\n",
              "      <th>click</th>\n",
              "      <th>click_pos</th>\n",
              "      <th>click_nb</th>\n",
              "      <th>cost</th>\n",
              "      <th>cpo</th>\n",
              "      <th>time_since_last_click</th>\n",
              "      <th>cat1</th>\n",
              "      <th>cat2</th>\n",
              "      <th>cat3</th>\n",
              "      <th>cat4</th>\n",
              "      <th>cat5</th>\n",
              "      <th>cat6</th>\n",
              "      <th>cat7</th>\n",
              "      <th>cat8</th>\n",
              "      <th>cat9</th>\n",
              "      <th>jid</th>\n",
              "      <th>timestamp_norm</th>\n",
              "      <th>time_since_last_click_norm</th>\n",
              "      <th>cats</th>\n",
              "      <th>campaigns</th>\n",
              "    </tr>\n",
              "  </thead>\n",
              "  <tbody>\n",
              "    <tr>\n",
              "      <th>0</th>\n",
              "      <td>124454</td>\n",
              "      <td>10730920</td>\n",
              "      <td>28795043</td>\n",
              "      <td>0</td>\n",
              "      <td>-1</td>\n",
              "      <td>-1</td>\n",
              "      <td>0</td>\n",
              "      <td>1</td>\n",
              "      <td>-1</td>\n",
              "      <td>-1</td>\n",
              "      <td>0.000014</td>\n",
              "      <td>0.279249</td>\n",
              "      <td>-1</td>\n",
              "      <td>30763035</td>\n",
              "      <td>9312274</td>\n",
              "      <td>23137544</td>\n",
              "      <td>29196072</td>\n",
              "      <td>32440044</td>\n",
              "      <td>1973606</td>\n",
              "      <td>1980833</td>\n",
              "      <td>29841067</td>\n",
              "      <td>29196072</td>\n",
              "      <td>10730920_-1</td>\n",
              "      <td>0.046591</td>\n",
              "      <td>0.000000</td>\n",
              "      <td>[1.0, 0.0, 0.0, 0.0, 0.0, 0.0, 0.0, 0.0, 0.0, ...</td>\n",
              "      <td>[28795043]</td>\n",
              "    </tr>\n",
              "    <tr>\n",
              "      <th>1</th>\n",
              "      <td>1772320</td>\n",
              "      <td>18294120</td>\n",
              "      <td>24942663</td>\n",
              "      <td>0</td>\n",
              "      <td>-1</td>\n",
              "      <td>-1</td>\n",
              "      <td>0</td>\n",
              "      <td>1</td>\n",
              "      <td>-1</td>\n",
              "      <td>-1</td>\n",
              "      <td>0.004622</td>\n",
              "      <td>0.301610</td>\n",
              "      <td>17577</td>\n",
              "      <td>27093701</td>\n",
              "      <td>9312274</td>\n",
              "      <td>23410096</td>\n",
              "      <td>29196072</td>\n",
              "      <td>20611409</td>\n",
              "      <td>30763035</td>\n",
              "      <td>13654477</td>\n",
              "      <td>29196072</td>\n",
              "      <td>15351053</td>\n",
              "      <td>18294120_-1</td>\n",
              "      <td>0.663492</td>\n",
              "      <td>0.006782</td>\n",
              "      <td>[0.0, 1.0, 0.0, 0.0, 0.0, 0.0, 0.0, 0.0, 0.0, ...</td>\n",
              "      <td>[24942663]</td>\n",
              "    </tr>\n",
              "    <tr>\n",
              "      <th>2</th>\n",
              "      <td>2062203</td>\n",
              "      <td>862538</td>\n",
              "      <td>28351001</td>\n",
              "      <td>1</td>\n",
              "      <td>2732225</td>\n",
              "      <td>7856566</td>\n",
              "      <td>0</td>\n",
              "      <td>1</td>\n",
              "      <td>13</td>\n",
              "      <td>16</td>\n",
              "      <td>0.000888</td>\n",
              "      <td>0.051292</td>\n",
              "      <td>396</td>\n",
              "      <td>25259032</td>\n",
              "      <td>9312274</td>\n",
              "      <td>23322867</td>\n",
              "      <td>29196072</td>\n",
              "      <td>5824236</td>\n",
              "      <td>29196072</td>\n",
              "      <td>16628728</td>\n",
              "      <td>29196072</td>\n",
              "      <td>16022563</td>\n",
              "      <td>862538_7856566</td>\n",
              "      <td>0.772014</td>\n",
              "      <td>0.000153</td>\n",
              "      <td>[0.0, 0.0, 1.0, 0.0, 0.0, 0.0, 0.0, 0.0, 0.0, ...</td>\n",
              "      <td>[28351001]</td>\n",
              "    </tr>\n",
              "    <tr>\n",
              "      <th>3</th>\n",
              "      <td>737323</td>\n",
              "      <td>16049029</td>\n",
              "      <td>7121544</td>\n",
              "      <td>0</td>\n",
              "      <td>-1</td>\n",
              "      <td>-1</td>\n",
              "      <td>0</td>\n",
              "      <td>0</td>\n",
              "      <td>-1</td>\n",
              "      <td>-1</td>\n",
              "      <td>0.000121</td>\n",
              "      <td>0.228472</td>\n",
              "      <td>-1</td>\n",
              "      <td>27093701</td>\n",
              "      <td>9312274</td>\n",
              "      <td>3495539</td>\n",
              "      <td>29196072</td>\n",
              "      <td>32440044</td>\n",
              "      <td>1973606</td>\n",
              "      <td>21147991</td>\n",
              "      <td>29841067</td>\n",
              "      <td>29196072</td>\n",
              "      <td>16049029_-1</td>\n",
              "      <td>0.276027</td>\n",
              "      <td>0.000000</td>\n",
              "      <td>[0.0, 1.0, 0.0, 0.0, 0.0, 0.0, 0.0, 0.0, 0.0, ...</td>\n",
              "      <td>[7121544]</td>\n",
              "    </tr>\n",
              "    <tr>\n",
              "      <th>4</th>\n",
              "      <td>1772819</td>\n",
              "      <td>15633986</td>\n",
              "      <td>15398570</td>\n",
              "      <td>1</td>\n",
              "      <td>1773056</td>\n",
              "      <td>30858709</td>\n",
              "      <td>1</td>\n",
              "      <td>1</td>\n",
              "      <td>12</td>\n",
              "      <td>13</td>\n",
              "      <td>0.000292</td>\n",
              "      <td>0.158713</td>\n",
              "      <td>88504</td>\n",
              "      <td>25259032</td>\n",
              "      <td>28928366</td>\n",
              "      <td>10787874</td>\n",
              "      <td>29196072</td>\n",
              "      <td>32440044</td>\n",
              "      <td>28928366</td>\n",
              "      <td>12289067</td>\n",
              "      <td>29196072</td>\n",
              "      <td>29520629</td>\n",
              "      <td>15633986_30858709</td>\n",
              "      <td>0.663679</td>\n",
              "      <td>0.034145</td>\n",
              "      <td>[0.0, 0.0, 1.0, 0.0, 0.0, 0.0, 0.0, 0.0, 0.0, ...</td>\n",
              "      <td>[15398570]</td>\n",
              "    </tr>\n",
              "  </tbody>\n",
              "</table>\n",
              "</div>"
            ],
            "text/plain": [
              "  timestamp  ...   campaigns\n",
              "0    124454  ...  [28795043]\n",
              "1   1772320  ...  [24942663]\n",
              "2   2062203  ...  [28351001]\n",
              "3    737323  ...   [7121544]\n",
              "4   1772819  ...  [15398570]\n",
              "\n",
              "[5 rows x 27 columns]"
            ]
          },
          "metadata": {
            "tags": []
          },
          "execution_count": 48
        }
      ]
    },
    {
      "cell_type": "markdown",
      "metadata": {
        "id": "t6yghioQs-MN"
      },
      "source": [
        "using the one-hot function for campaign column."
      ]
    },
    {
      "cell_type": "code",
      "metadata": {
        "id": "2rLj0eTTL9cF"
      },
      "source": [
        "df_ext['campaigns']= df_ext['campaigns'].map(one_hot)"
      ],
      "execution_count": 49,
      "outputs": []
    },
    {
      "cell_type": "markdown",
      "metadata": {
        "id": "bxTopCL9tF4C"
      },
      "source": [
        "Sorting the obtained dataframe by normalized timestamp value."
      ]
    },
    {
      "cell_type": "code",
      "metadata": {
        "id": "-bBWsQQBMQTC"
      },
      "source": [
        "df_model= df_ext.sort_values(by=['timestamp_norm'])"
      ],
      "execution_count": 50,
      "outputs": []
    },
    {
      "cell_type": "code",
      "metadata": {
        "id": "nt0Vx3fdMcL_",
        "colab": {
          "base_uri": "https://localhost:8080/",
          "height": 967
        },
        "outputId": "137b1d7e-c014-4e35-c03c-9bd7a871c2be"
      },
      "source": [
        "df_model.head()"
      ],
      "execution_count": 51,
      "outputs": [
        {
          "output_type": "execute_result",
          "data": {
            "text/html": [
              "<div>\n",
              "<style scoped>\n",
              "    .dataframe tbody tr th:only-of-type {\n",
              "        vertical-align: middle;\n",
              "    }\n",
              "\n",
              "    .dataframe tbody tr th {\n",
              "        vertical-align: top;\n",
              "    }\n",
              "\n",
              "    .dataframe thead th {\n",
              "        text-align: right;\n",
              "    }\n",
              "</style>\n",
              "<table border=\"1\" class=\"dataframe\">\n",
              "  <thead>\n",
              "    <tr style=\"text-align: right;\">\n",
              "      <th></th>\n",
              "      <th>timestamp</th>\n",
              "      <th>uid</th>\n",
              "      <th>campaign</th>\n",
              "      <th>conversion</th>\n",
              "      <th>conversion_timestamp</th>\n",
              "      <th>conversion_id</th>\n",
              "      <th>attribution</th>\n",
              "      <th>click</th>\n",
              "      <th>click_pos</th>\n",
              "      <th>click_nb</th>\n",
              "      <th>cost</th>\n",
              "      <th>cpo</th>\n",
              "      <th>time_since_last_click</th>\n",
              "      <th>cat1</th>\n",
              "      <th>cat2</th>\n",
              "      <th>cat3</th>\n",
              "      <th>cat4</th>\n",
              "      <th>cat5</th>\n",
              "      <th>cat6</th>\n",
              "      <th>cat7</th>\n",
              "      <th>cat8</th>\n",
              "      <th>cat9</th>\n",
              "      <th>jid</th>\n",
              "      <th>timestamp_norm</th>\n",
              "      <th>time_since_last_click_norm</th>\n",
              "      <th>cats</th>\n",
              "      <th>campaigns</th>\n",
              "    </tr>\n",
              "  </thead>\n",
              "  <tbody>\n",
              "    <tr>\n",
              "      <th>49676</th>\n",
              "      <td>2</td>\n",
              "      <td>28474333</td>\n",
              "      <td>18975823</td>\n",
              "      <td>0</td>\n",
              "      <td>-1</td>\n",
              "      <td>-1</td>\n",
              "      <td>0</td>\n",
              "      <td>0</td>\n",
              "      <td>-1</td>\n",
              "      <td>-1</td>\n",
              "      <td>0.000183</td>\n",
              "      <td>0.149706</td>\n",
              "      <td>8879</td>\n",
              "      <td>138937</td>\n",
              "      <td>9312274</td>\n",
              "      <td>10769841</td>\n",
              "      <td>29196072</td>\n",
              "      <td>5824237</td>\n",
              "      <td>138937</td>\n",
              "      <td>1795451</td>\n",
              "      <td>29196072</td>\n",
              "      <td>15351056</td>\n",
              "      <td>28474333_-1</td>\n",
              "      <td>7.487274e-07</td>\n",
              "      <td>0.003426</td>\n",
              "      <td>[0.0, 0.0, 0.0, 0.0, 1.0, 0.0, 0.0, 0.0, 0.0, ...</td>\n",
              "      <td>[0.0, 0.0, 0.0, 0.0, 0.0, 0.0, 0.0, 0.0, 0.0, ...</td>\n",
              "    </tr>\n",
              "    <tr>\n",
              "      <th>130369</th>\n",
              "      <td>3</td>\n",
              "      <td>25357769</td>\n",
              "      <td>13365547</td>\n",
              "      <td>0</td>\n",
              "      <td>-1</td>\n",
              "      <td>-1</td>\n",
              "      <td>0</td>\n",
              "      <td>0</td>\n",
              "      <td>-1</td>\n",
              "      <td>-1</td>\n",
              "      <td>0.000032</td>\n",
              "      <td>0.037583</td>\n",
              "      <td>-1</td>\n",
              "      <td>138937</td>\n",
              "      <td>26597094</td>\n",
              "      <td>31616034</td>\n",
              "      <td>29196072</td>\n",
              "      <td>11409684</td>\n",
              "      <td>26597096</td>\n",
              "      <td>4480345</td>\n",
              "      <td>29196072</td>\n",
              "      <td>29196072</td>\n",
              "      <td>25357769_-1</td>\n",
              "      <td>1.123091e-06</td>\n",
              "      <td>0.000000</td>\n",
              "      <td>[0.0, 0.0, 0.0, 0.0, 1.0, 0.0, 0.0, 0.0, 0.0, ...</td>\n",
              "      <td>[0.0, 0.0, 0.0, 0.0, 0.0, 0.0, 0.0, 0.0, 0.0, ...</td>\n",
              "    </tr>\n",
              "    <tr>\n",
              "      <th>235598</th>\n",
              "      <td>4</td>\n",
              "      <td>19923387</td>\n",
              "      <td>31772643</td>\n",
              "      <td>0</td>\n",
              "      <td>-1</td>\n",
              "      <td>-1</td>\n",
              "      <td>0</td>\n",
              "      <td>0</td>\n",
              "      <td>-1</td>\n",
              "      <td>-1</td>\n",
              "      <td>0.000035</td>\n",
              "      <td>0.087070</td>\n",
              "      <td>179666</td>\n",
              "      <td>30763035</td>\n",
              "      <td>9312274</td>\n",
              "      <td>5028397</td>\n",
              "      <td>29196072</td>\n",
              "      <td>32440044</td>\n",
              "      <td>32440041</td>\n",
              "      <td>14074087</td>\n",
              "      <td>29196072</td>\n",
              "      <td>21091108</td>\n",
              "      <td>19923387_-1</td>\n",
              "      <td>1.497455e-06</td>\n",
              "      <td>0.069316</td>\n",
              "      <td>[1.0, 0.0, 0.0, 0.0, 0.0, 0.0, 0.0, 0.0, 0.0, ...</td>\n",
              "      <td>[0.0, 0.0, 0.0, 0.0, 0.0, 0.0, 0.0, 0.0, 0.0, ...</td>\n",
              "    </tr>\n",
              "    <tr>\n",
              "      <th>37583</th>\n",
              "      <td>4</td>\n",
              "      <td>93907</td>\n",
              "      <td>17686799</td>\n",
              "      <td>0</td>\n",
              "      <td>-1</td>\n",
              "      <td>-1</td>\n",
              "      <td>0</td>\n",
              "      <td>1</td>\n",
              "      <td>-1</td>\n",
              "      <td>-1</td>\n",
              "      <td>0.000186</td>\n",
              "      <td>0.267100</td>\n",
              "      <td>262565</td>\n",
              "      <td>30763035</td>\n",
              "      <td>9068207</td>\n",
              "      <td>9107790</td>\n",
              "      <td>29196072</td>\n",
              "      <td>32440044</td>\n",
              "      <td>1973606</td>\n",
              "      <td>2687461</td>\n",
              "      <td>29841067</td>\n",
              "      <td>21091108</td>\n",
              "      <td>93907_-1</td>\n",
              "      <td>1.497455e-06</td>\n",
              "      <td>0.101299</td>\n",
              "      <td>[1.0, 0.0, 0.0, 0.0, 0.0, 0.0, 0.0, 0.0, 0.0, ...</td>\n",
              "      <td>[0.0, 0.0, 0.0, 0.0, 0.0, 0.0, 0.0, 0.0, 0.0, ...</td>\n",
              "    </tr>\n",
              "    <tr>\n",
              "      <th>313193</th>\n",
              "      <td>12</td>\n",
              "      <td>28883743</td>\n",
              "      <td>24267774</td>\n",
              "      <td>0</td>\n",
              "      <td>-1</td>\n",
              "      <td>-1</td>\n",
              "      <td>0</td>\n",
              "      <td>1</td>\n",
              "      <td>-1</td>\n",
              "      <td>-1</td>\n",
              "      <td>0.000010</td>\n",
              "      <td>0.051985</td>\n",
              "      <td>-1</td>\n",
              "      <td>138937</td>\n",
              "      <td>9312274</td>\n",
              "      <td>21728809</td>\n",
              "      <td>29196072</td>\n",
              "      <td>3808271</td>\n",
              "      <td>28928366</td>\n",
              "      <td>9312274</td>\n",
              "      <td>29196072</td>\n",
              "      <td>29196072</td>\n",
              "      <td>28883743_-1</td>\n",
              "      <td>4.492365e-06</td>\n",
              "      <td>0.000000</td>\n",
              "      <td>[0.0, 0.0, 0.0, 0.0, 1.0, 0.0, 0.0, 0.0, 0.0, ...</td>\n",
              "      <td>[0.0, 0.0, 0.0, 0.0, 0.0, 0.0, 0.0, 0.0, 0.0, ...</td>\n",
              "    </tr>\n",
              "  </tbody>\n",
              "</table>\n",
              "</div>"
            ],
            "text/plain": [
              "       timestamp  ...                                          campaigns\n",
              "49676          2  ...  [0.0, 0.0, 0.0, 0.0, 0.0, 0.0, 0.0, 0.0, 0.0, ...\n",
              "130369         3  ...  [0.0, 0.0, 0.0, 0.0, 0.0, 0.0, 0.0, 0.0, 0.0, ...\n",
              "235598         4  ...  [0.0, 0.0, 0.0, 0.0, 0.0, 0.0, 0.0, 0.0, 0.0, ...\n",
              "37583          4  ...  [0.0, 0.0, 0.0, 0.0, 0.0, 0.0, 0.0, 0.0, 0.0, ...\n",
              "313193        12  ...  [0.0, 0.0, 0.0, 0.0, 0.0, 0.0, 0.0, 0.0, 0.0, ...\n",
              "\n",
              "[5 rows x 27 columns]"
            ]
          },
          "metadata": {
            "tags": []
          },
          "execution_count": 51
        }
      ]
    },
    {
      "cell_type": "code",
      "metadata": {
        "id": "QCh0W-lNZzYd"
      },
      "source": [
        "# df_model['campaigns'][94389]"
      ],
      "execution_count": 52,
      "outputs": []
    },
    {
      "cell_type": "markdown",
      "metadata": {
        "id": "vodsVBpeuuMz"
      },
      "source": [
        ""
      ]
    },
    {
      "cell_type": "code",
      "metadata": {
        "id": "mX6G2ySQTThX"
      },
      "source": [
        "journey_counts= df_model.groupby(['jid'])['uid'].count().reset_index(name='count').groupby(['count']).count()\n",
        "counts= journey_counts.index\n",
        "no_of_jids= journey_counts.values "
      ],
      "execution_count": 53,
      "outputs": []
    },
    {
      "cell_type": "code",
      "metadata": {
        "id": "j8PBySREUuPA"
      },
      "source": [
        "import matplotlib.pyplot as plt"
      ],
      "execution_count": 54,
      "outputs": []
    },
    {
      "cell_type": "code",
      "metadata": {
        "id": "BkQI6OibVCZ3",
        "colab": {
          "base_uri": "https://localhost:8080/",
          "height": 283
        },
        "outputId": "84621435-9fa6-4e12-e23c-b85e11c6831a"
      },
      "source": [
        "plt.plot(counts,no_of_jids)\n",
        "plt.ylim(0,20)\n",
        "plt.xlim(0,200)\n",
        "plt.xlabel('Journey length (number of touchpoints)')\n",
        "plt.ylabel('No. of customers')\n",
        "plt.show()"
      ],
      "execution_count": 55,
      "outputs": [
        {
          "output_type": "display_data",
          "data": {
            "image/png": "[encoded data removed]",
            "text/plain": [
              "<Figure size 432x288 with 1 Axes>"
            ]
          },
          "metadata": {
            "tags": [],
            "needs_background": "light"
          }
        }
      ]
    },
    {
      "cell_type": "markdown",
      "metadata": {
        "id": "AEl1drz4w6R8"
      },
      "source": [
        "From the above plot, it is clear that as the journey lenght increases, the number of jid's is decreasing. This is expected and makes sense. This re-affirms that we can develop a model for sequential data."
      ]
    },
    {
      "cell_type": "markdown",
      "metadata": {
        "id": "WIN2LbP_xwMc"
      },
      "source": [
        "Counting the number of events for each campaign_id"
      ]
    },
    {
      "cell_type": "code",
      "metadata": {
        "id": "dh4c_U6kyr8d"
      },
      "source": [
        "counters= np.zeros(200)\n",
        "for campaign_one_hot in df_model['campaigns'].values:\n",
        "  campaign_id= np.argmax(campaign_one_hot)\n",
        "  counters[campaign_id]= counters[campaign_id]+1\n"
      ],
      "execution_count": 56,
      "outputs": []
    },
    {
      "cell_type": "code",
      "metadata": {
        "id": "Ysdt-2d9zqRs"
      },
      "source": [
        "# counters"
      ],
      "execution_count": 57,
      "outputs": []
    },
    {
      "cell_type": "markdown",
      "metadata": {
        "id": "W_bRwkvTyReW"
      },
      "source": [
        "To understand what counters represents, let us consider the first row from df_modelhaving an index 94389. When we apply the argmax function to an encoded array like in our case to the campaigns array, we get the position of value 1 in the encoded campaigns array i.e 86 here. Intitially, counters[86] will be 0(since we added 200 zeros). When a campaign's value in the encoded array is 86, it will increase the value of counter[86] by 1 and hence giving us the total number of occurences of a campaign in the entire dataset. So, now if we check the value of counters[86] we will get the count of the campaign 884761 which is 1368. So there are 1368 instances of the campaign 884761."
      ]
    },
    {
      "cell_type": "code",
      "metadata": {
        "id": "ZkAycl4wcA8b",
        "colab": {
          "base_uri": "https://localhost:8080/"
        },
        "outputId": "957e5b16-a709-4af4-ee54-160760307a80"
      },
      "source": [
        "np.argmax(df_model['campaigns'][94389])"
      ],
      "execution_count": 58,
      "outputs": [
        {
          "output_type": "execute_result",
          "data": {
            "text/plain": [
              "60"
            ]
          },
          "metadata": {
            "tags": []
          },
          "execution_count": 58
        }
      ]
    },
    {
      "cell_type": "code",
      "metadata": {
        "colab": {
          "base_uri": "https://localhost:8080/"
        },
        "id": "togSTilAzf0i",
        "outputId": "6ac046a0-5406-4ff3-9f19-c37a2eae6402"
      },
      "source": [
        "counters[86]"
      ],
      "execution_count": 59,
      "outputs": [
        {
          "output_type": "execute_result",
          "data": {
            "text/plain": [
              "2714.0"
            ]
          },
          "metadata": {
            "tags": []
          },
          "execution_count": 59
        }
      ]
    },
    {
      "cell_type": "code",
      "metadata": {
        "id": "xxJbvTIIW0Pr"
      },
      "source": [
        "df_converted= df_model[df_model['conversion']==1]"
      ],
      "execution_count": 60,
      "outputs": []
    },
    {
      "cell_type": "code",
      "metadata": {
        "id": "9IbFMNxpfhX3"
      },
      "source": [
        "# df_converted.head()"
      ],
      "execution_count": 61,
      "outputs": []
    },
    {
      "cell_type": "code",
      "metadata": {
        "colab": {
          "base_uri": "https://localhost:8080/"
        },
        "id": "_m7XnL8t0p12",
        "outputId": "86ca8171-d1ac-433a-8fa1-3d3650e77bb7"
      },
      "source": [
        "len(df_converted)"
      ],
      "execution_count": 62,
      "outputs": [
        {
          "output_type": "execute_result",
          "data": {
            "text/plain": [
              "169332"
            ]
          },
          "metadata": {
            "tags": []
          },
          "execution_count": 62
        }
      ]
    },
    {
      "cell_type": "code",
      "metadata": {
        "colab": {
          "base_uri": "https://localhost:8080/"
        },
        "id": "ukQnsgzQ0iiY",
        "outputId": "7bc5ffcc-c914-4c2f-c38d-593bcec0a93a"
      },
      "source": [
        "df_converted['jid'].nunique()"
      ],
      "execution_count": 63,
      "outputs": [
        {
          "output_type": "execute_result",
          "data": {
            "text/plain": [
              "44314"
            ]
          },
          "metadata": {
            "tags": []
          },
          "execution_count": 63
        }
      ]
    },
    {
      "cell_type": "markdown",
      "metadata": {
        "id": "3eZwW6Blz6sn"
      },
      "source": [
        "Counting the number of times a given campaign is the last touch before the conversion. here, when we groupby jid and timestamp_norm, we get 2 columns. One column is jid containing jid's  and the other containing the corresponding timestamp_norm value for the event. There may be multiple instances of jid's having multiple values of timestamp_norm values. The transform(max) function gives us the maximum value of timestamp_norm from among this sample of jid's. Finally, we check if this obtained max value is equal to the value in timestamp_norm column i.e if this was the last event and return a boolean value of either true or False along with the index value of timestamp_norm."
      ]
    },
    {
      "cell_type": "code",
      "metadata": {
        "id": "dFhZFc3cdJGw"
      },
      "source": [
        "index= df_converted.groupby(['jid'])['timestamp_norm'].transform(max) == df_converted['timestamp_norm']"
      ],
      "execution_count": 64,
      "outputs": []
    },
    {
      "cell_type": "code",
      "metadata": {
        "colab": {
          "base_uri": "https://localhost:8080/"
        },
        "id": "pzOlWNDK4BV3",
        "outputId": "41a78f20-a391-4209-f318-a0f5e3f179cf"
      },
      "source": [
        "index[:5]"
      ],
      "execution_count": 65,
      "outputs": [
        {
          "output_type": "execute_result",
          "data": {
            "text/plain": [
              "330646    False\n",
              "145343    False\n",
              "248616    False\n",
              "95779     False\n",
              "88194     False\n",
              "Name: timestamp_norm, dtype: bool"
            ]
          },
          "metadata": {
            "tags": []
          },
          "execution_count": 65
        }
      ]
    },
    {
      "cell_type": "code",
      "metadata": {
        "id": "_1H5a-QUkSSS",
        "colab": {
          "base_uri": "https://localhost:8080/"
        },
        "outputId": "4e3d9600-d208-4e6e-b07b-eab39ac25db6"
      },
      "source": [
        "len(index.tolist())"
      ],
      "execution_count": 66,
      "outputs": [
        {
          "output_type": "execute_result",
          "data": {
            "text/plain": [
              "169332"
            ]
          },
          "metadata": {
            "tags": []
          },
          "execution_count": 66
        }
      ]
    },
    {
      "cell_type": "markdown",
      "metadata": {
        "id": "5V_w7icN5O5f"
      },
      "source": [
        "Taking all last touch arrays from campaigns column based on index of True values."
      ]
    },
    {
      "cell_type": "code",
      "metadata": {
        "id": "1vhszUaL35MT"
      },
      "source": [
        "# df_converted[index]['campaigns']"
      ],
      "execution_count": 67,
      "outputs": []
    },
    {
      "cell_type": "markdown",
      "metadata": {
        "id": "or7GTmGh5q3H"
      },
      "source": [
        "As done before, counting the number of times the event was last touch before conversion."
      ]
    },
    {
      "cell_type": "code",
      "metadata": {
        "id": "vlu6bFNsfCPh"
      },
      "source": [
        "counters_2= np.zeros(200)\n",
        "for campaign_one_hot in df_converted[index]['campaigns'].values:\n",
        "  campaign_id= np.argmax(campaign_one_hot)\n",
        "  counters_2[campaign_id]= counters_2[campaign_id]+1"
      ],
      "execution_count": 68,
      "outputs": []
    },
    {
      "cell_type": "markdown",
      "metadata": {
        "id": "50txaK_i5143"
      },
      "source": [
        "Now, we have obtained the number of occurences for a campaign (counters) and number of times that campaign was last touch(counters). The ratio between the number of journeys in which a given campaign is the last event and the total number of events for the same campaign gives us the attribution weight (which is return per impression)."
      ]
    },
    {
      "cell_type": "code",
      "metadata": {
        "id": "3LYjLi9rgkFk"
      },
      "source": [
        "attributions= counters_2/counters"
      ],
      "execution_count": 69,
      "outputs": []
    },
    {
      "cell_type": "code",
      "metadata": {
        "id": "9h5AW0Vil7TS",
        "colab": {
          "base_uri": "https://localhost:8080/",
          "height": 351
        },
        "outputId": "3cc74ace-7b97-4a20-b4c1-9a4b8bb2ab57"
      },
      "source": [
        "campaign_idx= range(0,200)\n",
        "fig = plt.figure(figsize=(15,5))\n",
        "ax = fig.add_subplot(111)\n",
        "plt.bar( range(len(attributions[campaign_idx])), attributions[campaign_idx], label='LTA' )\n",
        "plt.xlabel('Sampled 200 campaigns')\n",
        "plt.ylabel('Return per impression (attribution)')"
      ],
      "execution_count": 70,
      "outputs": [
        {
          "output_type": "execute_result",
          "data": {
            "text/plain": [
              "Text(0, 0.5, 'Return per impression (attribution)')"
            ]
          },
          "metadata": {
            "tags": []
          },
          "execution_count": 70
        },
        {
          "output_type": "display_data",
          "data": {
            "image/png": "[encoded data removed]",
            "text/plain": [
              "<Figure size 1080x360 with 1 Axes>"
            ]
          },
          "metadata": {
            "tags": [],
            "needs_background": "light"
          }
        }
      ]
    },
    {
      "cell_type": "code",
      "metadata": {
        "id": "coIAwc3tjXgb"
      },
      "source": [
        "del camapaigns_shortlisted, data_file, df_converted, df_ext, df_final, index, mapper, minmaxscaler, one_hot"
      ],
      "execution_count": 71,
      "outputs": []
    },
    {
      "cell_type": "code",
      "metadata": {
        "id": "2_pYdMG2mTSU"
      },
      "source": [
        "del attributions"
      ],
      "execution_count": 72,
      "outputs": []
    },
    {
      "cell_type": "code",
      "metadata": {
        "id": "BGZIm9O0kQ1C"
      },
      "source": [
        " del campaign_id,campaign_idx, campaign_one_hot, col_name, col_names, column, counters, counters_2, counts,grouped, i, journey_counts, no_of_jids"
      ],
      "execution_count": 73,
      "outputs": []
    },
    {
      "cell_type": "code",
      "metadata": {
        "id": "9KePbr5-qOV_"
      },
      "source": [
        "# df_model.to_csv('Dataframe_test.csv',sep)"
      ],
      "execution_count": 74,
      "outputs": []
    },
    {
      "cell_type": "code",
      "metadata": {
        "id": "h5ZiHSOqmYkt"
      },
      "source": [
        "# def features_for_logistic_regression(df):\n",
        "\n",
        "#     def pairwise_max(series):\n",
        "#         return np.max(series.tolist(), axis = 0).tolist()\n",
        "    \n",
        "#     aggregation = {                      # aggregation specification for each feature\n",
        "#         'campaigns': pairwise_max,\n",
        "#         'cats': pairwise_max,\n",
        "#         'click': 'sum',\n",
        "#         'cost': 'sum',\n",
        "#         'conversion': 'max'\n",
        "#     }\n",
        "    \n",
        "#     df_agg = df.groupby(['jid']).agg(aggregation)\n",
        "    \n",
        "#     df_agg['features'] = df_agg[['campaigns', 'cats', 'click', 'cost']].values.tolist()\n",
        "    \n",
        "#     return (\n",
        "#         np.stack(df_agg['features'].map(lambda x: np.hstack(x)).values),\n",
        "#         df_agg['conversion'].values\n",
        "#     )\n",
        "\n"
      ],
      "execution_count": 75,
      "outputs": []
    },
    {
      "cell_type": "code",
      "metadata": {
        "id": "r9BokFCHn98V"
      },
      "source": [
        "# x,y = features_for_logistic_regression(df_model)\n",
        "# print(np.shape(x))"
      ],
      "execution_count": 76,
      "outputs": []
    },
    {
      "cell_type": "code",
      "metadata": {
        "id": "nJ3qAs32odX-"
      },
      "source": [
        "# from sklearn.model_selection import train_test_split"
      ],
      "execution_count": 77,
      "outputs": []
    }
  ]
}